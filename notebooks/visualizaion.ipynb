{
 "cells": [
  {
   "cell_type": "code",
   "execution_count": 3,
   "metadata": {},
   "outputs": [],
   "source": [
    "import pandas as pd\n",
    "import matplotlib.pyplot as plt\n",
    "import seaborn as sns\n",
    "\n",
    "# Load datasets\n",
    "df_completed_orders = pd.read_csv('../data/raw/completed_orders.csv')\n",
    "df_delivery_requests = pd.read_csv('../data/raw/delivery_requests.csv')"
   ]
  },
  {
   "cell_type": "code",
   "execution_count": null,
   "metadata": {},
   "outputs": [],
   "source": [
    "# Distribution of trip start times\n",
    "plt.figure(figsize=(12, 6))\n",
    "sns.histplot(df_completed_orders['Trip Start Time'], bins=30, kde=True)\n",
    "plt.title('Distribution of Trip Start Times')\n",
    "plt.xticks(rotation=45)\n",
    "plt.show()\n"
   ]
  },
  {
   "cell_type": "code",
   "execution_count": null,
   "metadata": {},
   "outputs": [],
   "source": [
    "# Distribution of trip end times\n",
    "plt.figure(figsize=(12, 6))\n",
    "sns.histplot(df_completed_orders['Trip End Time'], bins=30, kde=True)\n",
    "plt.title('Distribution of Trip End Times')\n",
    "plt.xticks(rotation=45)\n",
    "plt.show()"
   ]
  },
  {
   "cell_type": "code",
   "execution_count": null,
   "metadata": {},
   "outputs": [],
   "source": [
    "# Box plot of trip duration\n",
    "df_completed_orders['Trip Start Time'] = pd.to_datetime(df_completed_orders['Trip Start Time'])\n",
    "df_completed_orders['Trip End Time'] = pd.to_datetime(df_completed_orders['Trip End Time'])\n",
    "df_completed_orders['trip_duration'] = (df_completed_orders['Trip End Time'] - df_completed_orders['Trip Start Time']).dt.total_seconds() / 60\n",
    "\n",
    "plt.figure(figsize=(12, 6))\n",
    "sns.boxplot(x='trip_duration', data=df_completed_orders)\n",
    "plt.title('Box Plot of Trip Duration')\n",
    "plt.show()"
   ]
  },
  {
   "cell_type": "code",
   "execution_count": null,
   "metadata": {},
   "outputs": [],
   "source": [
    "# Count plot of driver actions\n",
    "plt.figure(figsize=(12, 6))\n",
    "sns.countplot(y='driver_action', data=df_delivery_requests, order=df_delivery_requests['driver_action'].value_counts().index)\n",
    "plt.title('Count of Driver Actions')\n",
    "plt.show()"
   ]
  },
  {
   "cell_type": "code",
   "execution_count": null,
   "metadata": {},
   "outputs": [],
   "source": [
    "import matplotlib.pyplot as plt\n",
    "import seaborn as sns\n",
    "\n",
    "# Calculate completion rates\n",
    "rain_completion_rate = df_orders[df_orders['rain'] == 1]['Trip ID'].count() / len(df_orders[df_orders['rain'] == 1])\n",
    "no_rain_completion_rate = df_orders[df_orders['rain'] == 0]['Trip ID'].count() / len(df_orders[df_orders['rain'] == 0])\n",
    "\n",
    "# Plot\n",
    "plt.figure(figsize=(8, 6))\n",
    "sns.barplot(x=['Rainy', 'No Rain'], y=[rain_completion_rate, no_rain_completion_rate])\n",
    "plt.title('Order Completion Rate: Rainy vs No Rain Days')\n",
    "plt.ylabel('Completion Rate')\n",
    "plt.ylim(0, 1)\n",
    "plt.show()\n"
   ]
  },
  {
   "cell_type": "code",
   "execution_count": null,
   "metadata": {},
   "outputs": [],
   "source": [
    "# Traffic Condition\n",
    "traffic_completion_rate = df_orders.groupby('traffic_condition')['Trip ID'].count() / len(df_orders['traffic_condition'].unique())\n",
    "\n",
    "# Hour of the Time\n",
    "hourly_completion_rate = df_orders.groupby('start_hour')['Trip ID'].count() / len(df_orders['start_hour'].unique())\n",
    "\n",
    "# Weekend vs Weekday\n",
    "weekend_completion_rate = df_orders[df_orders['weekend'] == 1]['Trip ID'].count() / len(df_orders[df_orders['weekend'] == 1])\n",
    "weekday_completion_rate = df_orders[df_orders['weekend'] == 0]['Trip ID'].count() / len(df_orders[df_orders['weekend'] == 0])\n",
    "\n",
    "# Plotting examples (customize as per your data and preferences)\n",
    "# Example: Traffic Condition\n",
    "plt.figure(figsize=(10, 6))\n",
    "sns.barplot(x=traffic_completion_rate.index, y=traffic_completion_rate.values)\n",
    "plt.title('Order Completion Rate by Traffic Condition')\n",
    "plt.xlabel('Traffic Condition')\n",
    "plt.ylabel('Completion Rate')\n",
    "plt.show()\n",
    "\n",
    "# Example: Hour of the Time\n",
    "plt.figure(figsize=(10, 6))\n",
    "sns.lineplot(x=hourly_completion_rate.index, y=hourly_completion_rate.values)\n",
    "plt.title('Order Completion Rate by Hour of the Day')\n",
    "plt.xlabel('Hour of the Day')\n",
    "plt.ylabel('Completion Rate')\n",
    "plt.xticks(rotation=45)\n",
    "plt.show()\n",
    "\n",
    "# Example: Weekend vs Weekday\n",
    "plt.figure(figsize=(8, 6))\n",
    "sns.barplot(x=['Weekend', 'Weekday'], y=[weekend_completion_rate, weekday_completion_rate])\n",
    "plt.title('Order Completion Rate: Weekend vs Weekday')\n",
    "plt.ylabel('Completion Rate')\n",
    "plt.ylim(0, 1)\n",
    "plt.show()\n"
   ]
  },
  {
   "cell_type": "code",
   "execution_count": null,
   "metadata": {},
   "outputs": [],
   "source": [
    "import datashader as ds\n",
    "import datashader.transfer_functions as tf\n",
    "import matplotlib.pyplot as plt\n",
    "import pandas as pd\n",
    "\n",
    "# Load datasets\n",
    "df_completed_orders = pd.read_csv('../data/completed_orders_with_clusters.csv')\n",
    "df_delivery_requests = pd.read_csv('../data/delivery_requests_with_clusters.csv')\n",
    "\n",
    "# Plot delivery starting locations\n",
    "cvs = ds.Canvas(plot_width=800, plot_height=800)\n",
    "agg = cvs.points(df_delivery_requests, 'lng', 'lat', ds.count())\n",
    "img = tf.shade(agg, cmap=[\"lightblue\", \"darkblue\"])\n",
    "\n",
    "# Display the image\n",
    "plt.imshow(img.to_pil())\n",
    "plt.axis('off')\n",
    "plt.show()\n",
    "\n",
    "# Plot delivery clusters\n",
    "fig, ax = plt.subplots(figsize=(10, 6))\n",
    "scatter = ax.scatter(df_delivery_requests['lng'], df_delivery_requests['lat'], c=df_delivery_requests['cluster'], cmap='viridis', s=0.5)\n",
    "legend = ax.legend(*scatter.legend_elements(), title=\"Clusters\")\n",
    "ax.add_artist(legend)\n",
    "plt.xlabel('Longitude')\n",
    "plt.ylabel('Latitude')\n",
    "plt.title('Delivery Start Location Clusters')\n",
    "plt.show()\n"
   ]
  }
 ],
 "metadata": {
  "kernelspec": {
   "display_name": "Python 3",
   "language": "python",
   "name": "python3"
  },
  "language_info": {
   "codemirror_mode": {
    "name": "ipython",
    "version": 3
   },
   "file_extension": ".py",
   "mimetype": "text/x-python",
   "name": "python",
   "nbconvert_exporter": "python",
   "pygments_lexer": "ipython3",
   "version": "3.10.10"
  }
 },
 "nbformat": 4,
 "nbformat_minor": 2
}
