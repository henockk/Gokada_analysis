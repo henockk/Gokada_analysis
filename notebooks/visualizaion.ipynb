{
 "cells": [
  {
   "cell_type": "code",
   "execution_count": 3,
   "metadata": {},
   "outputs": [],
   "source": [
    "import pandas as pd\n",
    "import matplotlib.pyplot as plt\n",
    "import seaborn as sns\n",
    "\n",
    "# Load datasets\n",
    "df_completed_orders = pd.read_csv('../data/raw/completed_orders.csv')\n",
    "df_delivery_requests = pd.read_csv('../data/raw/delivery_requests.csv')"
   ]
  },
  {
   "cell_type": "code",
   "execution_count": null,
   "metadata": {},
   "outputs": [],
   "source": [
    "# Distribution of trip start times\n",
    "plt.figure(figsize=(12, 6))\n",
    "sns.histplot(df_completed_orders['Trip Start Time'], bins=30, kde=True)\n",
    "plt.title('Distribution of Trip Start Times')\n",
    "plt.xticks(rotation=45)\n",
    "plt.show()\n"
   ]
  },
  {
   "cell_type": "code",
   "execution_count": null,
   "metadata": {},
   "outputs": [],
   "source": [
    "# Distribution of trip end times\n",
    "plt.figure(figsize=(12, 6))\n",
    "sns.histplot(df_completed_orders['Trip End Time'], bins=30, kde=True)\n",
    "plt.title('Distribution of Trip End Times')\n",
    "plt.xticks(rotation=45)\n",
    "plt.show()"
   ]
  },
  {
   "cell_type": "code",
   "execution_count": null,
   "metadata": {},
   "outputs": [],
   "source": [
    "# Box plot of trip duration\n",
    "df_completed_orders['Trip Start Time'] = pd.to_datetime(df_completed_orders['Trip Start Time'])\n",
    "df_completed_orders['Trip End Time'] = pd.to_datetime(df_completed_orders['Trip End Time'])\n",
    "df_completed_orders['trip_duration'] = (df_completed_orders['Trip End Time'] - df_completed_orders['Trip Start Time']).dt.total_seconds() / 60\n",
    "\n",
    "plt.figure(figsize=(12, 6))\n",
    "sns.boxplot(x='trip_duration', data=df_completed_orders)\n",
    "plt.title('Box Plot of Trip Duration')\n",
    "plt.show()"
   ]
  },
  {
   "cell_type": "code",
   "execution_count": null,
   "metadata": {},
   "outputs": [],
   "source": [
    "# Count plot of driver actions\n",
    "plt.figure(figsize=(12, 6))\n",
    "sns.countplot(y='driver_action', data=df_delivery_requests, order=df_delivery_requests['driver_action'].value_counts().index)\n",
    "plt.title('Count of Driver Actions')\n",
    "plt.show()"
   ]
  }
 ],
 "metadata": {
  "kernelspec": {
   "display_name": "Python 3",
   "language": "python",
   "name": "python3"
  },
  "language_info": {
   "codemirror_mode": {
    "name": "ipython",
    "version": 3
   },
   "file_extension": ".py",
   "mimetype": "text/x-python",
   "name": "python",
   "nbconvert_exporter": "python",
   "pygments_lexer": "ipython3",
   "version": "3.10.10"
  }
 },
 "nbformat": 4,
 "nbformat_minor": 2
}
