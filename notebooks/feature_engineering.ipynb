{
 "cells": [
  {
   "cell_type": "code",
   "execution_count": 9,
   "metadata": {},
   "outputs": [],
   "source": [
    "import pandas as pd\n",
    "\n",
    "# Load datasets\n",
    "df_completed_orders = pd.read_csv('../data/raw/completed_orders.csv')\n",
    "df_delivery_requests = pd.read_csv('../data/raw/delivery_requests.csv')\n",
    "# Load weather data\n",
    "df_weather = pd.read_csv('../data/raw/weather_data_lagos.csv')\n",
    "\n"
   ]
  },
  {
   "cell_type": "code",
   "execution_count": 4,
   "metadata": {},
   "outputs": [],
   "source": [
    "df_completed_orders['Trip Start Time'] = pd.to_datetime(df_completed_orders['Trip Start Time'])\n",
    "df_completed_orders['Trip End Time'] = pd.to_datetime(df_completed_orders['Trip End Time'])\n",
    "\n",
    "df_completed_orders['start_hour'] = df_completed_orders['Trip Start Time'].dt.hour\n",
    "df_completed_orders['start_day'] = df_completed_orders['Trip Start Time'].dt.dayofweek\n",
    "df_completed_orders['end_hour'] = df_completed_orders['Trip End Time'].dt.hour\n",
    "df_completed_orders['end_day'] = df_completed_orders['Trip End Time'].dt.dayofweek\n",
    "\n",
    "df_completed_orders['trip_duration'] = (df_completed_orders['Trip End Time'] - df_completed_orders['Trip Start Time']).dt.total_seconds() / 60\n"
   ]
  },
  {
   "cell_type": "code",
   "execution_count": 10,
   "metadata": {},
   "outputs": [
    {
     "name": "stdout",
     "output_type": "stream",
     "text": [
      "<class 'pandas.core.frame.DataFrame'>\n",
      "RangeIndex: 348 entries, 0 to 347\n",
      "Data columns (total 11 columns):\n",
      " #   Column  Non-Null Count  Dtype  \n",
      "---  ------  --------------  -----  \n",
      " 0   time    348 non-null    object \n",
      " 1   tavg    348 non-null    float64\n",
      " 2   tmin    348 non-null    float64\n",
      " 3   tmax    348 non-null    float64\n",
      " 4   prcp    59 non-null     float64\n",
      " 5   snow    0 non-null      float64\n",
      " 6   wdir    348 non-null    float64\n",
      " 7   wspd    348 non-null    float64\n",
      " 8   wpgt    0 non-null      float64\n",
      " 9   pres    348 non-null    float64\n",
      " 10  tsun    0 non-null      float64\n",
      "dtypes: float64(10), object(1)\n",
      "memory usage: 30.0+ KB\n",
      "None\n",
      "         time  tavg  tmin  tmax  prcp  snow   wdir  wspd  wpgt    pres  tsun\n",
      "0  2021-07-01  27.8  24.0  33.0   0.0   NaN  253.0  10.1   NaN  1014.7   NaN\n",
      "1  2021-07-02  27.5  24.9  31.2   NaN   NaN  248.0   9.5   NaN  1014.0   NaN\n",
      "2  2021-07-03  25.9  23.0  29.5   NaN   NaN  258.0  11.0   NaN  1014.6   NaN\n",
      "3  2021-07-04  25.7  22.0  31.0   NaN   NaN  257.0   8.8   NaN  1015.5   NaN\n",
      "4  2021-07-05  27.6  24.0  32.0   NaN   NaN  242.0   8.8   NaN  1015.6   NaN\n"
     ]
    }
   ],
   "source": [
    "# Display basic information and first few rows\n",
    "print(df_weather.info())\n",
    "print(df_weather.head())"
   ]
  },
  {
   "cell_type": "code",
   "execution_count": 11,
   "metadata": {},
   "outputs": [],
   "source": [
    "df_weather['time'] = pd.to_datetime(df_weather['time'])\n"
   ]
  },
  {
   "cell_type": "code",
   "execution_count": 12,
   "metadata": {},
   "outputs": [],
   "source": [
    "# Convert Trip Start Time and Trip End Time to datetime\n",
    "df_completed_orders['Trip Start Time'] = pd.to_datetime(df_completed_orders['Trip Start Time'])\n",
    "df_completed_orders['Trip End Time'] = pd.to_datetime(df_completed_orders['Trip End Time'])"
   ]
  },
  {
   "cell_type": "code",
   "execution_count": 13,
   "metadata": {},
   "outputs": [
    {
     "name": "stdout",
     "output_type": "stream",
     "text": [
      "Completed Orders Info:\n",
      "<class 'pandas.core.frame.DataFrame'>\n",
      "RangeIndex: 536020 entries, 0 to 536019\n",
      "Data columns (total 5 columns):\n",
      " #   Column            Non-Null Count   Dtype         \n",
      "---  ------            --------------   -----         \n",
      " 0   Trip ID           536020 non-null  int64         \n",
      " 1   Trip Origin       536020 non-null  object        \n",
      " 2   Trip Destination  536020 non-null  object        \n",
      " 3   Trip Start Time   534369 non-null  datetime64[ns]\n",
      " 4   Trip End Time     536019 non-null  datetime64[ns]\n",
      "dtypes: datetime64[ns](2), int64(1), object(2)\n",
      "memory usage: 20.4+ MB\n",
      "None\n"
     ]
    }
   ],
   "source": [
    "# Display basic information\n",
    "print(\"Completed Orders Info:\")\n",
    "print(df_completed_orders.info())"
   ]
  },
  {
   "cell_type": "code",
   "execution_count": 14,
   "metadata": {},
   "outputs": [
    {
     "name": "stdout",
     "output_type": "stream",
     "text": [
      "\n",
      "First few rows of Completed Orders:\n",
      "   Trip ID                         Trip Origin  \\\n",
      "0   391996  6.508813001668548,3.37740316890347   \n",
      "1   391997                 6.4316714,3.4555375   \n",
      "2   391998         6.631679399999999,3.3388976   \n",
      "3   391999         6.572757200000001,3.3677082   \n",
      "4   392001                 6.6010417,3.2766339   \n",
      "\n",
      "                  Trip Destination     Trip Start Time       Trip End Time  \n",
      "0      6.650969799999999,3.3450307 2021-07-01 07:28:04 2021-07-01 07:29:37  \n",
      "1  6.4280814653326,3.4721885847586 2021-07-01 06:38:04 2021-07-01 07:07:28  \n",
      "2      6.508324099999999,3.3590397 2021-07-01 06:21:02 2021-07-01 07:02:23  \n",
      "3      6.584881099999999,3.3614073 2021-07-01 07:16:07 2021-07-01 07:29:42  \n",
      "4              6.4501069,3.3916154 2021-07-01 09:30:59 2021-07-01 09:34:36  \n"
     ]
    }
   ],
   "source": [
    "# Display first few rows\n",
    "print(\"\\nFirst few rows of Completed Orders:\")\n",
    "print(df_completed_orders.head())"
   ]
  },
  {
   "cell_type": "code",
   "execution_count": 15,
   "metadata": {},
   "outputs": [
    {
     "name": "stdout",
     "output_type": "stream",
     "text": [
      "\n",
      "First few rows of Delivery Requests:\n",
      "   id  order_id  driver_id driver_action       lat       lng  created_at  \\\n",
      "0   1    392001     243828      accepted  6.602207  3.270465         NaN   \n",
      "1   2    392001     243588      rejected  6.592097  3.287445         NaN   \n",
      "2   3    392001     243830      rejected  6.596133  3.281784         NaN   \n",
      "3   4    392001     243539      rejected  6.596142  3.280526         NaN   \n",
      "4   5    392001     171653      rejected  6.609232  3.288800         NaN   \n",
      "\n",
      "   updated_at  \n",
      "0         NaN  \n",
      "1         NaN  \n",
      "2         NaN  \n",
      "3         NaN  \n",
      "4         NaN  \n"
     ]
    }
   ],
   "source": [
    "print(\"\\nFirst few rows of Delivery Requests:\")\n",
    "print(df_delivery_requests.head())"
   ]
  },
  {
   "cell_type": "code",
   "execution_count": 16,
   "metadata": {},
   "outputs": [
    {
     "name": "stdout",
     "output_type": "stream",
     "text": [
      "\n",
      "Merged DataFrame Info:\n",
      "<class 'pandas.core.frame.DataFrame'>\n",
      "RangeIndex: 536020 entries, 0 to 536019\n",
      "Data columns (total 16 columns):\n",
      " #   Column            Non-Null Count   Dtype         \n",
      "---  ------            --------------   -----         \n",
      " 0   Trip ID           536020 non-null  int64         \n",
      " 1   Trip Origin       536020 non-null  object        \n",
      " 2   Trip Destination  536020 non-null  object        \n",
      " 3   Trip Start Time   534369 non-null  datetime64[ns]\n",
      " 4   Trip End Time     536019 non-null  datetime64[ns]\n",
      " 5   time              534369 non-null  datetime64[ns]\n",
      " 6   tavg              534369 non-null  float64       \n",
      " 7   tmin              534369 non-null  float64       \n",
      " 8   tmax              534369 non-null  float64       \n",
      " 9   prcp              95017 non-null   float64       \n",
      " 10  snow              0 non-null       float64       \n",
      " 11  wdir              534369 non-null  float64       \n",
      " 12  wspd              534369 non-null  float64       \n",
      " 13  wpgt              0 non-null       float64       \n",
      " 14  pres              534369 non-null  float64       \n",
      " 15  tsun              0 non-null       float64       \n",
      "dtypes: datetime64[ns](3), float64(10), int64(1), object(2)\n",
      "memory usage: 65.4+ MB\n",
      "None\n",
      "\n",
      "First few rows of Merged DataFrame:\n",
      "   Trip ID                         Trip Origin  \\\n",
      "0   391996  6.508813001668548,3.37740316890347   \n",
      "1   391997                 6.4316714,3.4555375   \n",
      "2   391998         6.631679399999999,3.3388976   \n",
      "3   391999         6.572757200000001,3.3677082   \n",
      "4   392001                 6.6010417,3.2766339   \n",
      "\n",
      "                  Trip Destination     Trip Start Time       Trip End Time  \\\n",
      "0      6.650969799999999,3.3450307 2021-07-01 07:28:04 2021-07-01 07:29:37   \n",
      "1  6.4280814653326,3.4721885847586 2021-07-01 06:38:04 2021-07-01 07:07:28   \n",
      "2      6.508324099999999,3.3590397 2021-07-01 06:21:02 2021-07-01 07:02:23   \n",
      "3      6.584881099999999,3.3614073 2021-07-01 07:16:07 2021-07-01 07:29:42   \n",
      "4              6.4501069,3.3916154 2021-07-01 09:30:59 2021-07-01 09:34:36   \n",
      "\n",
      "        time  tavg  tmin  tmax  prcp  snow   wdir  wspd  wpgt    pres  tsun  \n",
      "0 2021-07-01  27.8  24.0  33.0   0.0   NaN  253.0  10.1   NaN  1014.7   NaN  \n",
      "1 2021-07-01  27.8  24.0  33.0   0.0   NaN  253.0  10.1   NaN  1014.7   NaN  \n",
      "2 2021-07-01  27.8  24.0  33.0   0.0   NaN  253.0  10.1   NaN  1014.7   NaN  \n",
      "3 2021-07-01  27.8  24.0  33.0   0.0   NaN  253.0  10.1   NaN  1014.7   NaN  \n",
      "4 2021-07-01  27.8  24.0  33.0   0.0   NaN  253.0  10.1   NaN  1014.7   NaN  \n"
     ]
    }
   ],
   "source": [
    "df_completed_orders['date'] = df_completed_orders['Trip Start Time'].dt.date\n",
    "df_weather['date'] = df_weather['time'].dt.date\n",
    "\n",
    "# Merge weather data with completed orders\n",
    "df_merged = pd.merge(df_completed_orders, df_weather, left_on='date', right_on='date', how='left')\n",
    "\n",
    "# Drop the now redundant 'date' column from merged DataFrame\n",
    "df_merged.drop(columns=['date'], inplace=True)\n",
    "\n",
    "# Display the merged DataFrame\n",
    "print(\"\\nMerged DataFrame Info:\")\n",
    "print(df_merged.info())\n",
    "print(\"\\nFirst few rows of Merged DataFrame:\")\n",
    "print(df_merged.head())\n"
   ]
  },
  {
   "cell_type": "code",
   "execution_count": 18,
   "metadata": {},
   "outputs": [
    {
     "name": "stdout",
     "output_type": "stream",
     "text": [
      "\n",
      "DataFrame with New Features:\n",
      "       Trip Start Time     rain  start_hour  weekend  holiday\n",
      "0  2021-07-01 07:28:04  no-rain         7.0        0        0\n",
      "1  2021-07-01 06:38:04  no-rain         6.0        0        0\n",
      "2  2021-07-01 06:21:02  no-rain         6.0        0        0\n",
      "3  2021-07-01 07:16:07  no-rain         7.0        0        0\n",
      "4  2021-07-01 09:30:59  no-rain         9.0        0        0\n",
      "5  2021-07-01 10:53:36  no-rain        10.0        0        0\n",
      "6  2021-07-01 06:39:51  no-rain         6.0        0        0\n",
      "7  2021-07-01 08:44:09  no-rain         8.0        0        0\n",
      "8  2021-07-01 06:43:07  no-rain         6.0        0        0\n",
      "9  2021-07-01 06:49:37  no-rain         6.0        0        0\n",
      "10 2021-07-01 06:51:28  no-rain         6.0        0        0\n",
      "11 2021-07-01 07:11:36  no-rain         7.0        0        0\n",
      "12 2021-07-01 07:19:37  no-rain         7.0        0        0\n",
      "13 2021-07-01 07:19:35  no-rain         7.0        0        0\n",
      "14 2021-07-01 07:43:46  no-rain         7.0        0        0\n",
      "15 2021-07-01 07:21:00  no-rain         7.0        0        0\n",
      "16 2021-07-01 07:01:05  no-rain         7.0        0        0\n",
      "17 2021-07-01 07:27:43  no-rain         7.0        0        0\n",
      "18 2021-07-01 07:30:53  no-rain         7.0        0        0\n",
      "19 2021-07-01 07:48:30  no-rain         7.0        0        0\n"
     ]
    }
   ],
   "source": [
    "# Create 'rain vs no-rain' feature\n",
    "df_merged['rain'] = df_merged['prcp'].apply(lambda x: 'rain' if x > 0 else 'no-rain')\n",
    "\n",
    "# Create 'hour of the time' feature\n",
    "df_merged['start_hour'] = df_merged['Trip Start Time'].dt.hour\n",
    "df_merged['end_hour'] = df_merged['Trip End Time'].dt.hour\n",
    "\n",
    "# Create 'weekend vs weekday' feature\n",
    "df_merged['start_day'] = df_merged['Trip Start Time'].dt.dayofweek\n",
    "df_merged['weekend'] = df_merged['start_day'].apply(lambda x: 1 if x >= 5 else 0)\n",
    "\n",
    "# Create 'holiday vs not-holiday' feature\n",
    "# You can use an external library or dataset to mark holidays. For simplicity, assuming a list of holidays.\n",
    "holidays = pd.to_datetime(['2021-07-04'])  # Example holiday list\n",
    "df_merged['holiday'] = df_merged['Trip Start Time'].dt.date.isin(holidays).astype(int)\n",
    "\n",
    "# Display the DataFrame with new features\n",
    "print(\"\\nDataFrame with New Features:\")\n",
    "print(df_merged[['Trip Start Time', 'rain', 'start_hour', 'weekend', 'holiday']].head(20))\n"
   ]
  }
 ],
 "metadata": {
  "kernelspec": {
   "display_name": "Python 3",
   "language": "python",
   "name": "python3"
  },
  "language_info": {
   "codemirror_mode": {
    "name": "ipython",
    "version": 3
   },
   "file_extension": ".py",
   "mimetype": "text/x-python",
   "name": "python",
   "nbconvert_exporter": "python",
   "pygments_lexer": "ipython3",
   "version": "3.10.10"
  }
 },
 "nbformat": 4,
 "nbformat_minor": 2
}
