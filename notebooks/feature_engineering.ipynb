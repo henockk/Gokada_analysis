{
 "cells": [
  {
   "cell_type": "code",
   "execution_count": 45,
   "metadata": {},
   "outputs": [],
   "source": [
    "import pandas as pd\n",
    "\n",
    "# Load datasets\n",
    "df_completed_orders_cleaned = pd.read_csv('../data/processed/completed_orders_cleaned.csv')\n",
    "df_delivery_requests_cleaned = pd.read_csv('../data/processed/delivery_requests_cleaned.csv')\n",
    "# Load weather data\n",
    "df_weather = pd.read_csv('../data/raw/weather_data_lagos.csv')\n",
    "df_delivery_requests_cleaned = pd.read_csv('../data/processed/completed_orders_cleaned_with_weather.csv')\n"
   ]
  },
  {
   "cell_type": "code",
   "execution_count": 34,
   "metadata": {},
   "outputs": [],
   "source": [
    "df_completed_orders_cleaned['Trip Start Time'] = pd.to_datetime(df_completed_orders_cleaned['Trip Start Time'])\n",
    "df_completed_orders_cleaned['Trip End Time'] = pd.to_datetime(df_completed_orders_cleaned['Trip End Time'])\n",
    "\n",
    "df_completed_orders_cleaned['start_hour'] = df_completed_orders_cleaned['Trip Start Time'].dt.hour\n",
    "df_completed_orders_cleaned['start_day'] = df_completed_orders_cleaned['Trip Start Time'].dt.dayofweek\n",
    "df_completed_orders_cleaned['end_hour'] = df_completed_orders_cleaned['Trip End Time'].dt.hour\n",
    "df_completed_orders_cleaned['end_day'] = df_completed_orders_cleaned['Trip End Time'].dt.dayofweek\n",
    "\n",
    "df_completed_orders_cleaned['trip_duration'] = (df_completed_orders_cleaned['Trip End Time'] - df_completed_orders_cleaned['Trip Start Time']).dt.total_seconds() / 60\n"
   ]
  },
  {
   "cell_type": "code",
   "execution_count": 35,
   "metadata": {},
   "outputs": [
    {
     "name": "stdout",
     "output_type": "stream",
     "text": [
      "<class 'pandas.core.frame.DataFrame'>\n",
      "RangeIndex: 348 entries, 0 to 347\n",
      "Data columns (total 11 columns):\n",
      " #   Column  Non-Null Count  Dtype  \n",
      "---  ------  --------------  -----  \n",
      " 0   time    348 non-null    object \n",
      " 1   tavg    348 non-null    float64\n",
      " 2   tmin    348 non-null    float64\n",
      " 3   tmax    348 non-null    float64\n",
      " 4   prcp    59 non-null     float64\n",
      " 5   snow    0 non-null      float64\n",
      " 6   wdir    348 non-null    float64\n",
      " 7   wspd    348 non-null    float64\n",
      " 8   wpgt    0 non-null      float64\n",
      " 9   pres    348 non-null    float64\n",
      " 10  tsun    0 non-null      float64\n",
      "dtypes: float64(10), object(1)\n",
      "memory usage: 30.0+ KB\n",
      "None\n",
      "         time  tavg  tmin  tmax  prcp  snow   wdir  wspd  wpgt    pres  tsun\n",
      "0  2021-07-01  27.8  24.0  33.0   0.0   NaN  253.0  10.1   NaN  1014.7   NaN\n",
      "1  2021-07-02  27.5  24.9  31.2   NaN   NaN  248.0   9.5   NaN  1014.0   NaN\n",
      "2  2021-07-03  25.9  23.0  29.5   NaN   NaN  258.0  11.0   NaN  1014.6   NaN\n",
      "3  2021-07-04  25.7  22.0  31.0   NaN   NaN  257.0   8.8   NaN  1015.5   NaN\n",
      "4  2021-07-05  27.6  24.0  32.0   NaN   NaN  242.0   8.8   NaN  1015.6   NaN\n"
     ]
    }
   ],
   "source": [
    "# Display basic information and first few rows\n",
    "print(df_weather.info())\n",
    "print(df_weather.head())"
   ]
  },
  {
   "cell_type": "code",
   "execution_count": 36,
   "metadata": {},
   "outputs": [],
   "source": [
    "df_weather['time'] = pd.to_datetime(df_weather['time'])\n"
   ]
  },
  {
   "cell_type": "code",
   "execution_count": 37,
   "metadata": {},
   "outputs": [],
   "source": [
    "# Convert Trip Start Time and Trip End Time to datetime\n",
    "df_completed_orders_cleaned['Trip Start Time'] = pd.to_datetime(df_completed_orders_cleaned['Trip Start Time'])\n",
    "df_completed_orders_cleaned['Trip End Time'] = pd.to_datetime(df_completed_orders_cleaned['Trip End Time'])"
   ]
  },
  {
   "cell_type": "code",
   "execution_count": 38,
   "metadata": {},
   "outputs": [
    {
     "name": "stdout",
     "output_type": "stream",
     "text": [
      "Completed Orders Info:\n",
      "<class 'pandas.core.frame.DataFrame'>\n",
      "RangeIndex: 536020 entries, 0 to 536019\n",
      "Data columns (total 10 columns):\n",
      " #   Column            Non-Null Count   Dtype         \n",
      "---  ------            --------------   -----         \n",
      " 0   Trip ID           536020 non-null  int64         \n",
      " 1   Trip Origin       536020 non-null  object        \n",
      " 2   Trip Destination  536020 non-null  object        \n",
      " 3   Trip Start Time   536020 non-null  datetime64[ns]\n",
      " 4   Trip End Time     536020 non-null  datetime64[ns]\n",
      " 5   start_hour        536020 non-null  int32         \n",
      " 6   start_day         536020 non-null  int32         \n",
      " 7   end_hour          536020 non-null  int32         \n",
      " 8   end_day           536020 non-null  int32         \n",
      " 9   trip_duration     536020 non-null  float64       \n",
      "dtypes: datetime64[ns](2), float64(1), int32(4), int64(1), object(2)\n",
      "memory usage: 32.7+ MB\n",
      "None\n"
     ]
    }
   ],
   "source": [
    "# Display basic information\n",
    "print(\"Completed Orders Info:\")\n",
    "print(df_completed_orders_cleaned.info())"
   ]
  },
  {
   "cell_type": "code",
   "execution_count": 39,
   "metadata": {},
   "outputs": [
    {
     "name": "stdout",
     "output_type": "stream",
     "text": [
      "\n",
      "First few rows of Completed Orders:\n",
      "   Trip ID                         Trip Origin  \\\n",
      "0   391996  6.508813001668548,3.37740316890347   \n",
      "1   391997                 6.4316714,3.4555375   \n",
      "2   391998         6.631679399999999,3.3388976   \n",
      "3   391999         6.572757200000001,3.3677082   \n",
      "4   392001                 6.6010417,3.2766339   \n",
      "\n",
      "                  Trip Destination     Trip Start Time       Trip End Time  \\\n",
      "0      6.650969799999999,3.3450307 2021-07-01 07:28:04 2021-07-01 07:29:37   \n",
      "1  6.4280814653326,3.4721885847586 2021-07-01 06:38:04 2021-07-01 07:07:28   \n",
      "2      6.508324099999999,3.3590397 2021-07-01 06:21:02 2021-07-01 07:02:23   \n",
      "3      6.584881099999999,3.3614073 2021-07-01 07:16:07 2021-07-01 07:29:42   \n",
      "4              6.4501069,3.3916154 2021-07-01 09:30:59 2021-07-01 09:34:36   \n",
      "\n",
      "   start_hour  start_day  end_hour  end_day  trip_duration  \n",
      "0           7          3         7        3       1.550000  \n",
      "1           6          3         7        3      29.400000  \n",
      "2           6          3         7        3      41.350000  \n",
      "3           7          3         7        3      13.583333  \n",
      "4           9          3         9        3       3.616667  \n"
     ]
    }
   ],
   "source": [
    "# Display first few rows\n",
    "print(\"\\nFirst few rows of Completed Orders:\")\n",
    "print(df_completed_orders_cleaned.head())"
   ]
  },
  {
   "cell_type": "code",
   "execution_count": 40,
   "metadata": {},
   "outputs": [
    {
     "name": "stdout",
     "output_type": "stream",
     "text": [
      "\n",
      "First few rows of Delivery Requests:\n",
      "   id  order_id  driver_id driver_action       lat       lng\n",
      "0   1    392001     243828      accepted  6.602207  3.270465\n",
      "1   2    392001     243588      rejected  6.592097  3.287445\n",
      "2   3    392001     243830      rejected  6.596133  3.281784\n",
      "3   4    392001     243539      rejected  6.596142  3.280526\n",
      "4   5    392001     171653      rejected  6.609232  3.288800\n"
     ]
    }
   ],
   "source": [
    "print(\"\\nFirst few rows of Delivery Requests:\")\n",
    "print(df_delivery_requests_cleaned.head())"
   ]
  },
  {
   "cell_type": "code",
   "execution_count": 41,
   "metadata": {},
   "outputs": [
    {
     "name": "stdout",
     "output_type": "stream",
     "text": [
      "\n",
      "Merged DataFrame Info:\n",
      "<class 'pandas.core.frame.DataFrame'>\n",
      "RangeIndex: 536020 entries, 0 to 536019\n",
      "Data columns (total 21 columns):\n",
      " #   Column            Non-Null Count   Dtype         \n",
      "---  ------            --------------   -----         \n",
      " 0   Trip ID           536020 non-null  int64         \n",
      " 1   Trip Origin       536020 non-null  object        \n",
      " 2   Trip Destination  536020 non-null  object        \n",
      " 3   Trip Start Time   536020 non-null  datetime64[ns]\n",
      " 4   Trip End Time     536020 non-null  datetime64[ns]\n",
      " 5   start_hour        536020 non-null  int32         \n",
      " 6   start_day         536020 non-null  int32         \n",
      " 7   end_hour          536020 non-null  int32         \n",
      " 8   end_day           536020 non-null  int32         \n",
      " 9   trip_duration     536020 non-null  float64       \n",
      " 10  time              536020 non-null  datetime64[ns]\n",
      " 11  tavg              536020 non-null  float64       \n",
      " 12  tmin              536020 non-null  float64       \n",
      " 13  tmax              536020 non-null  float64       \n",
      " 14  prcp              95139 non-null   float64       \n",
      " 15  snow              0 non-null       float64       \n",
      " 16  wdir              536020 non-null  float64       \n",
      " 17  wspd              536020 non-null  float64       \n",
      " 18  wpgt              0 non-null       float64       \n",
      " 19  pres              536020 non-null  float64       \n",
      " 20  tsun              0 non-null       float64       \n",
      "dtypes: datetime64[ns](3), float64(11), int32(4), int64(1), object(2)\n",
      "memory usage: 77.7+ MB\n",
      "None\n",
      "\n",
      "First few rows of Merged DataFrame:\n",
      "   Trip ID                         Trip Origin  \\\n",
      "0   391996  6.508813001668548,3.37740316890347   \n",
      "1   391997                 6.4316714,3.4555375   \n",
      "2   391998         6.631679399999999,3.3388976   \n",
      "3   391999         6.572757200000001,3.3677082   \n",
      "4   392001                 6.6010417,3.2766339   \n",
      "\n",
      "                  Trip Destination     Trip Start Time       Trip End Time  \\\n",
      "0      6.650969799999999,3.3450307 2021-07-01 07:28:04 2021-07-01 07:29:37   \n",
      "1  6.4280814653326,3.4721885847586 2021-07-01 06:38:04 2021-07-01 07:07:28   \n",
      "2      6.508324099999999,3.3590397 2021-07-01 06:21:02 2021-07-01 07:02:23   \n",
      "3      6.584881099999999,3.3614073 2021-07-01 07:16:07 2021-07-01 07:29:42   \n",
      "4              6.4501069,3.3916154 2021-07-01 09:30:59 2021-07-01 09:34:36   \n",
      "\n",
      "   start_hour  start_day  end_hour  end_day  trip_duration  ...  tavg  tmin  \\\n",
      "0           7          3         7        3       1.550000  ...  27.8  24.0   \n",
      "1           6          3         7        3      29.400000  ...  27.8  24.0   \n",
      "2           6          3         7        3      41.350000  ...  27.8  24.0   \n",
      "3           7          3         7        3      13.583333  ...  27.8  24.0   \n",
      "4           9          3         9        3       3.616667  ...  27.8  24.0   \n",
      "\n",
      "   tmax  prcp  snow   wdir  wspd  wpgt    pres  tsun  \n",
      "0  33.0   0.0   NaN  253.0  10.1   NaN  1014.7   NaN  \n",
      "1  33.0   0.0   NaN  253.0  10.1   NaN  1014.7   NaN  \n",
      "2  33.0   0.0   NaN  253.0  10.1   NaN  1014.7   NaN  \n",
      "3  33.0   0.0   NaN  253.0  10.1   NaN  1014.7   NaN  \n",
      "4  33.0   0.0   NaN  253.0  10.1   NaN  1014.7   NaN  \n",
      "\n",
      "[5 rows x 21 columns]\n"
     ]
    }
   ],
   "source": [
    "df_completed_orders_cleaned['date'] = df_completed_orders_cleaned['Trip Start Time'].dt.date\n",
    "df_weather['date'] = df_weather['time'].dt.date\n",
    "\n",
    "# Merge weather data with completed orders\n",
    "df_merged = pd.merge(df_completed_orders_cleaned, df_weather, left_on='date', right_on='date', how='left')\n",
    "\n",
    "# Drop the now redundant 'date' column from merged DataFrame\n",
    "df_merged.drop(columns=['date'], inplace=True)\n",
    "\n",
    "# Display the merged DataFrame\n",
    "print(\"\\nMerged DataFrame Info:\")\n",
    "print(df_merged.info())\n",
    "print(\"\\nFirst few rows of Merged DataFrame:\")\n",
    "print(df_merged.head())\n"
   ]
  },
  {
   "cell_type": "code",
   "execution_count": 42,
   "metadata": {},
   "outputs": [
    {
     "name": "stdout",
     "output_type": "stream",
     "text": [
      "\n",
      "DataFrame with New Features:\n",
      "       Trip Start Time     rain  start_hour  weekend  holiday\n",
      "0  2021-07-01 07:28:04  no-rain           7        0        0\n",
      "1  2021-07-01 06:38:04  no-rain           6        0        0\n",
      "2  2021-07-01 06:21:02  no-rain           6        0        0\n",
      "3  2021-07-01 07:16:07  no-rain           7        0        0\n",
      "4  2021-07-01 09:30:59  no-rain           9        0        0\n",
      "5  2021-07-01 10:53:36  no-rain          10        0        0\n",
      "6  2021-07-01 06:39:51  no-rain           6        0        0\n",
      "7  2021-07-01 08:44:09  no-rain           8        0        0\n",
      "8  2021-07-01 06:43:07  no-rain           6        0        0\n",
      "9  2021-07-01 06:49:37  no-rain           6        0        0\n",
      "10 2021-07-01 06:51:28  no-rain           6        0        0\n",
      "11 2021-07-01 07:11:36  no-rain           7        0        0\n",
      "12 2021-07-01 07:19:37  no-rain           7        0        0\n",
      "13 2021-07-01 07:19:35  no-rain           7        0        0\n",
      "14 2021-07-01 07:43:46  no-rain           7        0        0\n",
      "15 2021-07-01 07:21:00  no-rain           7        0        0\n",
      "16 2021-07-01 07:01:05  no-rain           7        0        0\n",
      "17 2021-07-01 07:27:43  no-rain           7        0        0\n",
      "18 2021-07-01 07:30:53  no-rain           7        0        0\n",
      "19 2021-07-01 07:48:30  no-rain           7        0        0\n"
     ]
    }
   ],
   "source": [
    "# Create 'rain vs no-rain' feature\n",
    "df_merged['rain'] = df_merged['prcp'].apply(lambda x: 'rain' if x > 0 else 'no-rain')\n",
    "\n",
    "# Create 'hour of the time' feature\n",
    "df_merged['start_hour'] = df_merged['Trip Start Time'].dt.hour\n",
    "df_merged['end_hour'] = df_merged['Trip End Time'].dt.hour\n",
    "\n",
    "# Create 'weekend vs weekday' feature\n",
    "df_merged['start_day'] = df_merged['Trip Start Time'].dt.dayofweek\n",
    "df_merged['weekend'] = df_merged['start_day'].apply(lambda x: 1 if x >= 5 else 0)\n",
    "\n",
    "# Create 'holiday vs not-holiday' feature\n",
    "# You can use an external library or dataset to mark holidays. For simplicity, assuming a list of holidays.\n",
    "holidays = pd.to_datetime(['2021-07-04'])  # Example holiday list\n",
    "df_merged['holiday'] = df_merged['Trip Start Time'].dt.date.isin(holidays).astype(int)\n",
    "\n",
    "# Display the DataFrame with new features\n",
    "print(\"\\nDataFrame with New Features:\")\n",
    "print(df_merged[['Trip Start Time', 'rain', 'start_hour', 'weekend', 'holiday']].head(20))\n"
   ]
  },
  {
   "cell_type": "code",
   "execution_count": 43,
   "metadata": {},
   "outputs": [
    {
     "name": "stdout",
     "output_type": "stream",
     "text": [
      "rain   \n",
      "no-rain    493639\n",
      "rain        42381\n",
      "Name: count, dtype: int64\n"
     ]
    }
   ],
   "source": [
    "print(df_merged[['rain']].value_counts())\n",
    "#print(df_merged[['Trip Start Time', 'rain', 'start_hour', 'weekend', 'holiday']].head(20))"
   ]
  },
  {
   "cell_type": "code",
   "execution_count": 44,
   "metadata": {},
   "outputs": [],
   "source": [
    "# Save the cleaned and feature-engineered data\n",
    "df_merged.to_csv('../data/processed/completed_orders_cleaned_with_weather.csv', index=False)\n"
   ]
  },
  {
   "cell_type": "code",
   "execution_count": 47,
   "metadata": {},
   "outputs": [
    {
     "name": "stderr",
     "output_type": "stream",
     "text": [
      "/tmp/ipykernel_134414/3270921773.py:49: FutureWarning: DataFrame.fillna with 'method' is deprecated and will raise in a future version. Use obj.ffill() or obj.bfill() instead.\n",
      "  df_completed_orders_cleaned_with_weather[weather_features] = df_completed_orders_cleaned_with_weather[weather_features].fillna(method='ffill')\n"
     ]
    },
    {
     "name": "stdout",
     "output_type": "stream",
     "text": [
      "<class 'pandas.core.frame.DataFrame'>\n",
      "RangeIndex: 536020 entries, 0 to 536019\n",
      "Data columns (total 41 columns):\n",
      " #   Column                Non-Null Count   Dtype         \n",
      "---  ------                --------------   -----         \n",
      " 0   Trip ID               536020 non-null  int64         \n",
      " 1   Trip Origin           536020 non-null  object        \n",
      " 2   Trip Destination      536020 non-null  object        \n",
      " 3   Trip Start Time       536020 non-null  datetime64[ns]\n",
      " 4   Trip End Time         536020 non-null  datetime64[ns]\n",
      " 5   start_hour            536020 non-null  int64         \n",
      " 6   start_day             536020 non-null  int64         \n",
      " 7   end_hour              536020 non-null  int64         \n",
      " 8   end_day               536020 non-null  int64         \n",
      " 9   trip_duration         536020 non-null  float64       \n",
      " 10  time                  536020 non-null  object        \n",
      " 11  tavg                  536020 non-null  float64       \n",
      " 12  tmin                  536020 non-null  float64       \n",
      " 13  tmax                  536020 non-null  float64       \n",
      " 14  prcp                  536020 non-null  float64       \n",
      " 15  snow                  0 non-null       float64       \n",
      " 16  wdir                  536020 non-null  float64       \n",
      " 17  wspd                  536020 non-null  float64       \n",
      " 18  wpgt                  0 non-null       float64       \n",
      " 19  pres                  536020 non-null  float64       \n",
      " 20  tsun                  0 non-null       float64       \n",
      " 21  rain                  536020 non-null  int64         \n",
      " 22  weekend               536020 non-null  int64         \n",
      " 23  holiday               536020 non-null  int64         \n",
      " 24  trip_duration_scaled  536020 non-null  float64       \n",
      " 25  start_hour_sin        536020 non-null  float64       \n",
      " 26  start_hour_cos        536020 non-null  float64       \n",
      " 27  day_0                 536020 non-null  bool          \n",
      " 28  day_1                 536020 non-null  bool          \n",
      " 29  day_2                 536020 non-null  bool          \n",
      " 30  day_3                 536020 non-null  bool          \n",
      " 31  day_4                 536020 non-null  bool          \n",
      " 32  day_5                 536020 non-null  bool          \n",
      " 33  day_6                 536020 non-null  bool          \n",
      " 34  tavg_scaled           536020 non-null  float64       \n",
      " 35  tmin_scaled           536020 non-null  float64       \n",
      " 36  tmax_scaled           536020 non-null  float64       \n",
      " 37  prcp_scaled           95139 non-null   float64       \n",
      " 38  wdir_scaled           536020 non-null  float64       \n",
      " 39  wspd_scaled           536020 non-null  float64       \n",
      " 40  pres_scaled           536020 non-null  float64       \n",
      "dtypes: bool(7), datetime64[ns](2), float64(21), int64(8), object(3)\n",
      "memory usage: 142.6+ MB\n",
      "None\n",
      "<class 'pandas.core.frame.DataFrame'>\n",
      "RangeIndex: 1557740 entries, 0 to 1557739\n",
      "Data columns (total 9 columns):\n",
      " #   Column                 Non-Null Count    Dtype  \n",
      "---  ------                 --------------    -----  \n",
      " 0   id                     1557740 non-null  int64  \n",
      " 1   order_id               1557740 non-null  int64  \n",
      " 2   driver_id              1557740 non-null  int64  \n",
      " 3   driver_action          1557740 non-null  object \n",
      " 4   lat                    1557740 non-null  float64\n",
      " 5   lng                    1557740 non-null  float64\n",
      " 6   driver_action_encoded  1557740 non-null  int64  \n",
      " 7   lat_scaled             1557740 non-null  float64\n",
      " 8   lng_scaled             1557740 non-null  float64\n",
      "dtypes: float64(4), int64(4), object(1)\n",
      "memory usage: 107.0+ MB\n",
      "None\n"
     ]
    }
   ],
   "source": [
    "import pandas as pd\n",
    "import numpy as np\n",
    "from sklearn.preprocessing import StandardScaler, MinMaxScaler\n",
    "\n",
    "# Load datasets\n",
    "df_completed_orders_cleaned_with_weather = pd.read_csv('../data/processed/completed_orders_cleaned_with_weather.csv')\n",
    "df_delivery_requests_cleaned = pd.read_csv('../data/processed/delivery_requests_cleaned.csv')\n",
    "\n",
    "# Convert timestamps to datetime\n",
    "df_completed_orders_cleaned_with_weather['Trip Start Time'] = pd.to_datetime(df_completed_orders_cleaned_with_weather['Trip Start Time'])\n",
    "df_completed_orders_cleaned_with_weather['Trip End Time'] = pd.to_datetime(df_completed_orders_cleaned_with_weather['Trip End Time'])\n",
    "\n",
    "# Feature Extraction\n",
    "\n",
    "# Normalize trip_duration\n",
    "scaler = StandardScaler()\n",
    "df_completed_orders_cleaned_with_weather['trip_duration_scaled'] = scaler.fit_transform(df_completed_orders_cleaned_with_weather[['trip_duration']])\n",
    "\n",
    "# Rain vs No-Rain - Binary Encoding\n",
    "df_completed_orders_cleaned_with_weather['rain'] = df_completed_orders_cleaned_with_weather['rain'].apply(lambda x: 1 if x == 'rain' else 0)\n",
    "\n",
    "# Weekend vs Weekday - Already extracted as 'weekend'\n",
    "\n",
    "# Hour of the Day\n",
    "df_completed_orders_cleaned_with_weather['start_hour_sin'] = np.sin(2 * np.pi * df_completed_orders_cleaned_with_weather['start_hour'] / 24)\n",
    "df_completed_orders_cleaned_with_weather['start_hour_cos'] = np.cos(2 * np.pi * df_completed_orders_cleaned_with_weather['start_hour'] / 24)\n",
    "\n",
    "# Day of the Week - One-hot encoding\n",
    "df_completed_orders_cleaned_with_weather = pd.concat([df_completed_orders_cleaned_with_weather, pd.get_dummies(df_completed_orders_cleaned_with_weather['start_day'], prefix='day')], axis=1)\n",
    "\n",
    "# Holiday vs Not-Holiday - Already extracted as 'holiday'\n",
    "\n",
    "# Extract Features from delivery requests data\n",
    "# Since 'created_at' and 'updated_at' are not available, we can focus on driver actions and geographical features.\n",
    "\n",
    "# Encode driver actions\n",
    "df_delivery_requests_cleaned['driver_action_encoded'] = pd.factorize(df_delivery_requests_cleaned['driver_action'])[0]\n",
    "\n",
    "# Normalize lat and lng\n",
    "scaler = MinMaxScaler()\n",
    "df_delivery_requests_cleaned[['lat_scaled', 'lng_scaled']] = scaler.fit_transform(df_delivery_requests_cleaned[['lat', 'lng']])\n",
    "\n",
    "# Merge weather data features into completed orders\n",
    "weather_features = ['tavg', 'tmin', 'tmax', 'prcp', 'wdir', 'wspd', 'pres']\n",
    "for feature in weather_features:\n",
    "    df_completed_orders_cleaned_with_weather[feature + '_scaled'] = scaler.fit_transform(df_completed_orders_cleaned_with_weather[[feature]])\n",
    "\n",
    "# Handle missing values for weather data (forward fill)\n",
    "df_completed_orders_cleaned_with_weather[weather_features] = df_completed_orders_cleaned_with_weather[weather_features].fillna(method='ffill')\n",
    "\n",
    "# Save the cleaned and feature-engineered data\n",
    "df_completed_orders_cleaned_with_weather.to_csv('../data/processed/completed_orders_cleaned_with_weather_feature_engineered.csv', index=False)\n",
    "df_delivery_requests_cleaned.to_csv('../data/processed/delivery_requests_cleaned_feature_engineered.csv', index=False)\n",
    "\n",
    "# Display info to check transformations\n",
    "print(df_completed_orders_cleaned_with_weather.info())\n",
    "print(df_delivery_requests_cleaned.info())\n"
   ]
  },
  {
   "cell_type": "code",
   "execution_count": 49,
   "metadata": {},
   "outputs": [],
   "source": [
    "import pandas as pd\n",
    "import numpy as np\n",
    "from geopy.distance import geodesic\n",
    "\n",
    "# Load datasets\n",
    "df_completed_orders = pd.read_csv('../data/processed/completed_orders_cleaned_with_weather_feature_engineered.csv')\n",
    "df_delivery_requests = pd.read_csv('../data/processed/delivery_requests_cleaned_feature_engineered.csv')\n",
    "\n",
    "# Compute geodesic distance between Trip Origin and Trip Destination\n",
    "def compute_geodesic_distance(origin, destination):\n",
    "    try:\n",
    "        origin_coords = tuple(map(float, origin.split(',')))\n",
    "        destination_coords = tuple(map(float, destination.split(',')))\n",
    "        return geodesic(origin_coords, destination_coords).kilometers\n",
    "    except ValueError:\n",
    "        return np.nan\n",
    "\n",
    "df_completed_orders['distance_km'] = df_completed_orders.apply(lambda row: compute_geodesic_distance(row['Trip Origin'], row['Trip Destination']), axis=1)\n",
    "\n",
    "# Compute driving speed\n",
    "df_completed_orders['driving_speed_kmph'] = df_completed_orders['distance_km'] / (df_completed_orders['trip_duration'] / 60)\n",
    "\n",
    "# Save the updated dataframe\n",
    "df_completed_orders.to_csv('../data/processed/completed_orders_with_distance_speed.csv', index=False)\n"
   ]
  },
  {
   "cell_type": "code",
   "execution_count": null,
   "metadata": {},
   "outputs": [],
   "source": [
    "from sklearn.neighbors import BallTree\n",
    "from geopy.distance import great_circle\n",
    "\n",
    "def compute_orders_within_radius(df, radius=0.5):\n",
    "    # Convert lat/lng to radians for BallTree\n",
    "    df['lat_rad'] = np.deg2rad(df['lat'])\n",
    "    df['lng_rad'] = np.deg2rad(df['lng'])\n",
    "    coords = df[['lat_rad', 'lng_rad']].values\n",
    "    tree = BallTree(coords, metric='haversine')\n",
    "    \n",
    "    # Find orders within the radius for each point\n",
    "    counts_within_radius = []\n",
    "    for coord in coords:\n",
    "        indices = tree.query_radius([coord], r=radius / 6371)[0]  # radius in kilometers\n",
    "        counts_within_radius.append(len(indices) - 1)  # exclude the point itself\n",
    "    \n",
    "    return counts_within_radius\n",
    "\n",
    "df_delivery_requests['orders_within_500m'] = compute_orders_within_radius(df_delivery_requests)\n",
    "\n",
    "# Save the updated dataframe\n",
    "df_delivery_requests.to_csv('../data/delivery_requests_with_radius_counts.csv', index=False)\n"
   ]
  },
  {
   "cell_type": "code",
   "execution_count": null,
   "metadata": {},
   "outputs": [],
   "source": [
    "from sklearn.cluster import KMeans\n",
    "\n",
    "def compute_clusters(df, n_clusters=5):\n",
    "    coords = df[['lat', 'lng']].values\n",
    "    kmeans = KMeans(n_clusters=n_clusters, random_state=0).fit(coords)\n",
    "    df['cluster'] = kmeans.labels_\n",
    "    return kmeans.cluster_centers_\n",
    "\n",
    "# Compute clusters for delivery starting locations\n",
    "start_clusters = compute_clusters(df_delivery_requests)\n",
    "\n",
    "# Compute clusters for delivery destinations\n",
    "end_clusters = compute_clusters(df_completed_orders)\n",
    "\n",
    "# Save the updated dataframes\n",
    "df_delivery_requests.to_csv('../data/delivery_requests_with_clusters.csv', index=False)\n",
    "df_completed_orders.to_csv('../data/completed_orders_with_clusters.csv', index=False)\n"
   ]
  },
  {
   "cell_type": "code",
   "execution_count": null,
   "metadata": {},
   "outputs": [],
   "source": []
  }
 ],
 "metadata": {
  "kernelspec": {
   "display_name": "Python 3",
   "language": "python",
   "name": "python3"
  },
  "language_info": {
   "codemirror_mode": {
    "name": "ipython",
    "version": 3
   },
   "file_extension": ".py",
   "mimetype": "text/x-python",
   "name": "python",
   "nbconvert_exporter": "python",
   "pygments_lexer": "ipython3",
   "version": "3.10.10"
  }
 },
 "nbformat": 4,
 "nbformat_minor": 2
}
