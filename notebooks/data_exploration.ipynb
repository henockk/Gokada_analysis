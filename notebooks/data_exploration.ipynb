{
 "cells": [
  {
   "cell_type": "code",
   "execution_count": null,
   "metadata": {},
   "outputs": [],
   "source": [
    "import sys\n",
    "sys.path.append('..')\n",
    "import matplotlib.pyplot as plt \n",
    "import numpy as np\n",
    "import pandas as pd\n",
    "\n",
    "# Import the function from src\n",
    "from src.data.load_data import load_raw_data\n",
    "\n",
    "# Specify the filename\n",
    "filename1 = 'nb.csv'  \n",
    "filename2 = 'driver_locations_during_request.csv'\n",
    " \n",
    "\n",
    "# Call the function to load the data\n",
    "df = load_raw_data(filename1)\n",
    "df2 = load_raw_data(filename2)\n",
    "\n",
    "\n",
    "# Now you can use 'df' in your notebook\n"
   ]
  },
  {
   "cell_type": "code",
   "execution_count": null,
   "metadata": {},
   "outputs": [],
   "source": [
    "df2.head()"
   ]
  },
  {
   "cell_type": "code",
   "execution_count": null,
   "metadata": {},
   "outputs": [],
   "source": [
    "print(df.describe())"
   ]
  },
  {
   "cell_type": "code",
   "execution_count": null,
   "metadata": {},
   "outputs": [],
   "source": [
    "df.tail()"
   ]
  },
  {
   "cell_type": "code",
   "execution_count": null,
   "metadata": {},
   "outputs": [],
   "source": [
    "df.info"
   ]
  },
  {
   "cell_type": "code",
   "execution_count": null,
   "metadata": {},
   "outputs": [],
   "source": [
    "df.describe()"
   ]
  },
  {
   "cell_type": "code",
   "execution_count": null,
   "metadata": {},
   "outputs": [],
   "source": [
    "df.isnull().sum()"
   ]
  },
  {
   "cell_type": "code",
   "execution_count": null,
   "metadata": {},
   "outputs": [],
   "source": [
    "df2.plot()"
   ]
  },
  {
   "cell_type": "code",
   "execution_count": null,
   "metadata": {},
   "outputs": [],
   "source": [
    "df2.plot(kind = 'line', subplots = True)"
   ]
  },
  {
   "cell_type": "code",
   "execution_count": null,
   "metadata": {},
   "outputs": [],
   "source": [
    "df.plot(kind='bar', stacked = True)"
   ]
  },
  {
   "cell_type": "code",
   "execution_count": null,
   "metadata": {},
   "outputs": [],
   "source": [
    "df['Trip Start Time'] = pd.to_datetime(df['Trip Start Time'])"
   ]
  },
  {
   "cell_type": "code",
   "execution_count": null,
   "metadata": {},
   "outputs": [],
   "source": [
    "import pandas as pd\n",
    "df_weather_data_lagos = pd.read_csv('../data/raw/weather_data_lagos.csv')"
   ]
  },
  {
   "cell_type": "code",
   "execution_count": null,
   "metadata": {},
   "outputs": [],
   "source": [
    "print(df_weather_data_lagos.info())\n",
    "\n",
    "# Display first few rows\n",
    "print(df_weather_data_lagos.head())"
   ]
  },
  {
   "cell_type": "code",
   "execution_count": null,
   "metadata": {},
   "outputs": [],
   "source": [
    "import pandas as pd\n",
    "\n",
    "# Load datasets\n",
    "df_completed_orders = pd.read_csv('../data/raw/completed_orders.csv')\n",
    "df_delivery_requests = pd.read_csv('../data/raw/delivery_requests.csv')\n",
    "df_delivery_requests_cleaned = pd.read_csv('../data/processed/delivery_requests_cleaned.csv')\n",
    "# Load weather data\n",
    "df_weather = pd.read_csv('../data/raw/weather_data_lagos.csv')\n",
    "df_completed_orders_cleaned_with_weather = pd.read_csv('../data/processed/completed_orders_cleaned_with_weather.csv')\n"
   ]
  },
  {
   "cell_type": "code",
   "execution_count": null,
   "metadata": {},
   "outputs": [],
   "source": [
    "df_completed_orders_cleaned_with_weather['weekend'].value_counts()"
   ]
  },
  {
   "cell_type": "code",
   "execution_count": null,
   "metadata": {},
   "outputs": [],
   "source": [
    "print(df_completed_orders_cleaned_with_weather.head())"
   ]
  },
  {
   "cell_type": "code",
   "execution_count": null,
   "metadata": {},
   "outputs": [],
   "source": [
    "# List all columns in the DataFrame\n",
    "columns_list = df_completed_orders_cleaned_with_weather.columns.tolist()\n",
    "print(columns_list)"
   ]
  },
  {
   "cell_type": "code",
   "execution_count": null,
   "metadata": {},
   "outputs": [],
   "source": [
    "print(df_completed_orders_cleaned_with_weather.info())"
   ]
  },
  {
   "cell_type": "code",
   "execution_count": null,
   "metadata": {},
   "outputs": [],
   "source": [
    "print(df_delivery_requests_cleaned.info())"
   ]
  },
  {
   "cell_type": "code",
   "execution_count": null,
   "metadata": {},
   "outputs": [],
   "source": [
    "# Missing values\n",
    "print(\"\\nCompleted Orders - Missing Values:\")\n",
    "print(df_completed_orders.isnull().sum())"
   ]
  },
  {
   "cell_type": "code",
   "execution_count": null,
   "metadata": {},
   "outputs": [],
   "source": [
    "print(\"\\nDelivery Requests - Missing Values:\")\n",
    "print(df_delivery_requests.isnull().sum())"
   ]
  },
  {
   "cell_type": "code",
   "execution_count": null,
   "metadata": {},
   "outputs": [],
   "source": [
    "# Identify missing values in completed orders\n",
    "print(\"Completed Orders - Missing Values:\")\n",
    "print(df_completed_orders.isnull().sum())\n",
    "\n",
    "# Fill missing values in Trip Start Time and Trip End Time\n",
    "df_completed_orders['Trip Start Time'].fillna(method='ffill', inplace=True)\n",
    "df_completed_orders['Trip End Time'].fillna(method='bfill', inplace=True)\n",
    "\n",
    "# Confirm missing values have been handled\n",
    "print(\"\\nCompleted Orders - Missing Values After Handling:\")\n",
    "print(df_completed_orders.isnull().sum())\n"
   ]
  },
  {
   "cell_type": "code",
   "execution_count": null,
   "metadata": {},
   "outputs": [],
   "source": [
    "# Identify missing values in delivery requests\n",
    "print(\"\\nDelivery Requests - Missing Values:\")\n",
    "print(df_delivery_requests.isnull().sum())\n",
    "\n",
    "# Drop columns 'created_at' and 'updated_at' as they have no non-null values\n",
    "df_delivery_requests.drop(columns=['created_at', 'updated_at'], inplace=True)\n",
    "\n",
    "# Confirm missing values have been handled\n",
    "print(\"\\nDelivery Requests - Missing Values After Handling:\")\n",
    "print(df_delivery_requests.isnull().sum())\n"
   ]
  },
  {
   "cell_type": "code",
   "execution_count": null,
   "metadata": {},
   "outputs": [],
   "source": [
    "# Save the cleaned and feature-engineered data\n",
    "df_completed_orders.to_csv('../data/processed/completed_orders_cleaned.csv', index=False)\n",
    "df_delivery_requests.to_csv('../data/processed/delivery_requests_cleaned.csv', index=False)"
   ]
  },
  {
   "cell_type": "code",
   "execution_count": null,
   "metadata": {},
   "outputs": [],
   "source": [
    "# List all columns in the DataFrame\n",
    "columns_list = df_c.columns.tolist()\n",
    "print(columns_list)\n"
   ]
  }
 ],
 "metadata": {
  "kernelspec": {
   "display_name": "venv",
   "language": "python",
   "name": "python3"
  },
  "language_info": {
   "codemirror_mode": {
    "name": "ipython",
    "version": 3
   },
   "file_extension": ".py",
   "mimetype": "text/x-python",
   "name": "python",
   "nbconvert_exporter": "python",
   "pygments_lexer": "ipython3",
   "version": "3.10.10"
  }
 },
 "nbformat": 4,
 "nbformat_minor": 2
}
