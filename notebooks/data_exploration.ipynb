{
 "cells": [
  {
   "cell_type": "code",
   "execution_count": 2,
   "metadata": {},
   "outputs": [
    {
     "ename": "ImportError",
     "evalue": "cannot import name 'load_raw_data_location' from 'src.data.load_data' (/home/henock/Desktop/10_Academy/week_8/Gokada_analysis/notebooks/../src/data/load_data.py)",
     "output_type": "error",
     "traceback": [
      "\u001b[0;31m---------------------------------------------------------------------------\u001b[0m",
      "\u001b[0;31mImportError\u001b[0m                               Traceback (most recent call last)",
      "Cell \u001b[0;32mIn[2], line 8\u001b[0m\n\u001b[1;32m      5\u001b[0m \u001b[38;5;28;01mimport\u001b[39;00m \u001b[38;5;21;01mpandas\u001b[39;00m \u001b[38;5;28;01mas\u001b[39;00m \u001b[38;5;21;01mpd\u001b[39;00m\n\u001b[1;32m      7\u001b[0m \u001b[38;5;66;03m# Import the function from src\u001b[39;00m\n\u001b[0;32m----> 8\u001b[0m \u001b[38;5;28;01mfrom\u001b[39;00m \u001b[38;5;21;01msrc\u001b[39;00m\u001b[38;5;21;01m.\u001b[39;00m\u001b[38;5;21;01mdata\u001b[39;00m\u001b[38;5;21;01m.\u001b[39;00m\u001b[38;5;21;01mload_data\u001b[39;00m \u001b[38;5;28;01mimport\u001b[39;00m load_raw_data\n\u001b[1;32m     10\u001b[0m \u001b[38;5;66;03m# Specify the filename\u001b[39;00m\n\u001b[1;32m     11\u001b[0m filename1 \u001b[38;5;241m=\u001b[39m \u001b[38;5;124m'\u001b[39m\u001b[38;5;124mnb.csv\u001b[39m\u001b[38;5;124m'\u001b[39m  \n",
      "File \u001b[0;32m~/Desktop/10_Academy/week_8/Gokada_analysis/notebooks/../src/__init__.py:4\u001b[0m\n\u001b[1;32m      1\u001b[0m \u001b[38;5;66;03m# src/__init__.py\u001b[39;00m\n\u001b[1;32m      2\u001b[0m \n\u001b[1;32m      3\u001b[0m \u001b[38;5;66;03m# Import modules\u001b[39;00m\n\u001b[0;32m----> 4\u001b[0m \u001b[38;5;28;01mfrom\u001b[39;00m \u001b[38;5;21;01m.\u001b[39;00m\u001b[38;5;21;01mdata\u001b[39;00m \u001b[38;5;28;01mimport\u001b[39;00m load_data\n",
      "File \u001b[0;32m~/Desktop/10_Academy/week_8/Gokada_analysis/notebooks/../src/data/__init__.py:4\u001b[0m\n\u001b[1;32m      1\u001b[0m \u001b[38;5;66;03m# data/__init__.py\u001b[39;00m\n\u001b[1;32m      2\u001b[0m \n\u001b[1;32m      3\u001b[0m \u001b[38;5;66;03m# Import modules\u001b[39;00m\n\u001b[0;32m----> 4\u001b[0m \u001b[38;5;28;01mfrom\u001b[39;00m \u001b[38;5;21;01m.\u001b[39;00m\u001b[38;5;21;01mload_data\u001b[39;00m \u001b[38;5;28;01mimport\u001b[39;00m load_raw_data, load_raw_data_location\n",
      "\u001b[0;31mImportError\u001b[0m: cannot import name 'load_raw_data_location' from 'src.data.load_data' (/home/henock/Desktop/10_Academy/week_8/Gokada_analysis/notebooks/../src/data/load_data.py)"
     ]
    }
   ],
   "source": [
    "import sys\n",
    "sys.path.append('..')\n",
    "import matplotlib.pyplot as plt \n",
    "import numpy as np\n",
    "import pandas as pd\n",
    "\n",
    "# Import the function from src\n",
    "from src.data.load_data import load_raw_data\n",
    "\n",
    "# Specify the filename\n",
    "filename1 = 'nb.csv'  \n",
    "filename2 = 'driver_locations_during_request.csv'\n",
    " \n",
    "\n",
    "# Call the function to load the data\n",
    "df = load_raw_data(filename1)\n",
    "df2 = load_raw_data(filename2)\n",
    "\n",
    "\n",
    "# Now you can use 'df' in your notebook\n"
   ]
  },
  {
   "cell_type": "code",
   "execution_count": null,
   "metadata": {},
   "outputs": [],
   "source": [
    "df2.head()"
   ]
  },
  {
   "cell_type": "code",
   "execution_count": 4,
   "metadata": {},
   "outputs": [
    {
     "name": "stdout",
     "output_type": "stream",
     "text": [
      "            Trip ID\n",
      "count  5.360200e+05\n",
      "mean   9.910221e+05\n",
      "std    3.456364e+05\n",
      "min    3.919960e+05\n",
      "25%    6.935610e+05\n",
      "50%    9.910085e+05\n",
      "75%    1.281570e+06\n",
      "max    1.637709e+06\n"
     ]
    }
   ],
   "source": [
    "print(df.describe())"
   ]
  },
  {
   "cell_type": "code",
   "execution_count": null,
   "metadata": {},
   "outputs": [],
   "source": [
    "df.tail()"
   ]
  },
  {
   "cell_type": "code",
   "execution_count": null,
   "metadata": {},
   "outputs": [],
   "source": [
    "df.info"
   ]
  },
  {
   "cell_type": "code",
   "execution_count": null,
   "metadata": {},
   "outputs": [],
   "source": [
    "df.describe()"
   ]
  },
  {
   "cell_type": "code",
   "execution_count": null,
   "metadata": {},
   "outputs": [],
   "source": [
    "df.isnull().sum()"
   ]
  },
  {
   "cell_type": "code",
   "execution_count": null,
   "metadata": {},
   "outputs": [],
   "source": [
    "df2.plot()"
   ]
  },
  {
   "cell_type": "code",
   "execution_count": null,
   "metadata": {},
   "outputs": [],
   "source": [
    "df2.plot(kind = 'line', subplots = True)"
   ]
  },
  {
   "cell_type": "code",
   "execution_count": null,
   "metadata": {},
   "outputs": [],
   "source": [
    "df.plot(kind='bar', stacked = True)"
   ]
  },
  {
   "cell_type": "code",
   "execution_count": 9,
   "metadata": {},
   "outputs": [],
   "source": [
    "df['Trip Start Time'] = pd.to_datetime(df['Trip Start Time'])"
   ]
  },
  {
   "cell_type": "code",
   "execution_count": 3,
   "metadata": {},
   "outputs": [],
   "source": [
    "import pandas as pd\n",
    "df_weather_data_lagos = pd.read_csv('../data/raw/weather_data_lagos.csv')"
   ]
  },
  {
   "cell_type": "code",
   "execution_count": 4,
   "metadata": {},
   "outputs": [
    {
     "name": "stdout",
     "output_type": "stream",
     "text": [
      "<class 'pandas.core.frame.DataFrame'>\n",
      "RangeIndex: 348 entries, 0 to 347\n",
      "Data columns (total 11 columns):\n",
      " #   Column  Non-Null Count  Dtype  \n",
      "---  ------  --------------  -----  \n",
      " 0   time    348 non-null    object \n",
      " 1   tavg    348 non-null    float64\n",
      " 2   tmin    348 non-null    float64\n",
      " 3   tmax    348 non-null    float64\n",
      " 4   prcp    59 non-null     float64\n",
      " 5   snow    0 non-null      float64\n",
      " 6   wdir    348 non-null    float64\n",
      " 7   wspd    348 non-null    float64\n",
      " 8   wpgt    0 non-null      float64\n",
      " 9   pres    348 non-null    float64\n",
      " 10  tsun    0 non-null      float64\n",
      "dtypes: float64(10), object(1)\n",
      "memory usage: 30.0+ KB\n",
      "None\n",
      "         time  tavg  tmin  tmax  prcp  snow   wdir  wspd  wpgt    pres  tsun\n",
      "0  2021-07-01  27.8  24.0  33.0   0.0   NaN  253.0  10.1   NaN  1014.7   NaN\n",
      "1  2021-07-02  27.5  24.9  31.2   NaN   NaN  248.0   9.5   NaN  1014.0   NaN\n",
      "2  2021-07-03  25.9  23.0  29.5   NaN   NaN  258.0  11.0   NaN  1014.6   NaN\n",
      "3  2021-07-04  25.7  22.0  31.0   NaN   NaN  257.0   8.8   NaN  1015.5   NaN\n",
      "4  2021-07-05  27.6  24.0  32.0   NaN   NaN  242.0   8.8   NaN  1015.6   NaN\n"
     ]
    }
   ],
   "source": [
    "print(df_weather_data_lagos.info())\n",
    "\n",
    "# Display first few rows\n",
    "print(df_weather_data_lagos.head())"
   ]
  },
  {
   "cell_type": "code",
   "execution_count": 24,
   "metadata": {},
   "outputs": [],
   "source": [
    "import pandas as pd\n",
    "\n",
    "# Load datasets\n",
    "df_completed_orders = pd.read_csv('../data/raw/completed_orders.csv')\n",
    "df_delivery_requests = pd.read_csv('../data/raw/delivery_requests.csv')\n",
    "df_delivery_requests_cleaned = pd.read_csv('../data/processed/delivery_requests_cleaned.csv')\n",
    "# Load weather data\n",
    "df_weather = pd.read_csv('../data/raw/weather_data_lagos.csv')\n",
    "df_completed_orders_cleaned_with_weather = pd.read_csv('../data/processed/completed_orders_cleaned_with_weather.csv')\n"
   ]
  },
  {
   "cell_type": "code",
   "execution_count": 16,
   "metadata": {},
   "outputs": [
    {
     "data": {
      "text/plain": [
       "weekend\n",
       "0    428631\n",
       "1    107389\n",
       "Name: count, dtype: int64"
      ]
     },
     "execution_count": 16,
     "metadata": {},
     "output_type": "execute_result"
    }
   ],
   "source": [
    "df_completed_orders_cleaned_with_weather['weekend'].value_counts()"
   ]
  },
  {
   "cell_type": "code",
   "execution_count": 17,
   "metadata": {},
   "outputs": [
    {
     "name": "stdout",
     "output_type": "stream",
     "text": [
      "   Trip ID                         Trip Origin  \\\n",
      "0   391996  6.508813001668548,3.37740316890347   \n",
      "1   391997                 6.4316714,3.4555375   \n",
      "2   391998         6.631679399999999,3.3388976   \n",
      "3   391999         6.572757200000001,3.3677082   \n",
      "4   392001                 6.6010417,3.2766339   \n",
      "\n",
      "                  Trip Destination      Trip Start Time        Trip End Time  \\\n",
      "0      6.650969799999999,3.3450307  2021-07-01 07:28:04  2021-07-01 07:29:37   \n",
      "1  6.4280814653326,3.4721885847586  2021-07-01 06:38:04  2021-07-01 07:07:28   \n",
      "2      6.508324099999999,3.3590397  2021-07-01 06:21:02  2021-07-01 07:02:23   \n",
      "3      6.584881099999999,3.3614073  2021-07-01 07:16:07  2021-07-01 07:29:42   \n",
      "4              6.4501069,3.3916154  2021-07-01 09:30:59  2021-07-01 09:34:36   \n",
      "\n",
      "   start_hour  start_day  end_hour  end_day  trip_duration  ... prcp  snow  \\\n",
      "0           7          3         7        3       1.550000  ...  0.0   NaN   \n",
      "1           6          3         7        3      29.400000  ...  0.0   NaN   \n",
      "2           6          3         7        3      41.350000  ...  0.0   NaN   \n",
      "3           7          3         7        3      13.583333  ...  0.0   NaN   \n",
      "4           9          3         9        3       3.616667  ...  0.0   NaN   \n",
      "\n",
      "    wdir  wspd  wpgt    pres  tsun     rain  weekend  holiday  \n",
      "0  253.0  10.1   NaN  1014.7   NaN  no-rain        0        0  \n",
      "1  253.0  10.1   NaN  1014.7   NaN  no-rain        0        0  \n",
      "2  253.0  10.1   NaN  1014.7   NaN  no-rain        0        0  \n",
      "3  253.0  10.1   NaN  1014.7   NaN  no-rain        0        0  \n",
      "4  253.0  10.1   NaN  1014.7   NaN  no-rain        0        0  \n",
      "\n",
      "[5 rows x 24 columns]\n"
     ]
    }
   ],
   "source": [
    "print(df_completed_orders_cleaned_with_weather.head())"
   ]
  },
  {
   "cell_type": "code",
   "execution_count": 20,
   "metadata": {},
   "outputs": [
    {
     "name": "stdout",
     "output_type": "stream",
     "text": [
      "['Trip ID', 'Trip Origin', 'Trip Destination', 'Trip Start Time', 'Trip End Time', 'start_hour', 'start_day', 'end_hour', 'end_day', 'trip_duration', 'time', 'tavg', 'tmin', 'tmax', 'prcp', 'snow', 'wdir', 'wspd', 'wpgt', 'pres', 'tsun', 'rain', 'weekend', 'holiday']\n"
     ]
    }
   ],
   "source": [
    "# List all columns in the DataFrame\n",
    "columns_list = df_completed_orders_cleaned_with_weather.columns.tolist()\n",
    "print(columns_list)"
   ]
  },
  {
   "cell_type": "code",
   "execution_count": 21,
   "metadata": {},
   "outputs": [
    {
     "name": "stdout",
     "output_type": "stream",
     "text": [
      "<class 'pandas.core.frame.DataFrame'>\n",
      "RangeIndex: 536020 entries, 0 to 536019\n",
      "Data columns (total 24 columns):\n",
      " #   Column            Non-Null Count   Dtype  \n",
      "---  ------            --------------   -----  \n",
      " 0   Trip ID           536020 non-null  int64  \n",
      " 1   Trip Origin       536020 non-null  object \n",
      " 2   Trip Destination  536020 non-null  object \n",
      " 3   Trip Start Time   536020 non-null  object \n",
      " 4   Trip End Time     536020 non-null  object \n",
      " 5   start_hour        536020 non-null  int64  \n",
      " 6   start_day         536020 non-null  int64  \n",
      " 7   end_hour          536020 non-null  int64  \n",
      " 8   end_day           536020 non-null  int64  \n",
      " 9   trip_duration     536020 non-null  float64\n",
      " 10  time              536020 non-null  object \n",
      " 11  tavg              536020 non-null  float64\n",
      " 12  tmin              536020 non-null  float64\n",
      " 13  tmax              536020 non-null  float64\n",
      " 14  prcp              95139 non-null   float64\n",
      " 15  snow              0 non-null       float64\n",
      " 16  wdir              536020 non-null  float64\n",
      " 17  wspd              536020 non-null  float64\n",
      " 18  wpgt              0 non-null       float64\n",
      " 19  pres              536020 non-null  float64\n",
      " 20  tsun              0 non-null       float64\n",
      " 21  rain              536020 non-null  object \n",
      " 22  weekend           536020 non-null  int64  \n",
      " 23  holiday           536020 non-null  int64  \n",
      "dtypes: float64(11), int64(7), object(6)\n",
      "memory usage: 98.1+ MB\n",
      "None\n"
     ]
    }
   ],
   "source": [
    "print(df_completed_orders_cleaned_with_weather.info())"
   ]
  },
  {
   "cell_type": "code",
   "execution_count": 25,
   "metadata": {},
   "outputs": [
    {
     "name": "stdout",
     "output_type": "stream",
     "text": [
      "<class 'pandas.core.frame.DataFrame'>\n",
      "RangeIndex: 1557740 entries, 0 to 1557739\n",
      "Data columns (total 6 columns):\n",
      " #   Column         Non-Null Count    Dtype  \n",
      "---  ------         --------------    -----  \n",
      " 0   id             1557740 non-null  int64  \n",
      " 1   order_id       1557740 non-null  int64  \n",
      " 2   driver_id      1557740 non-null  int64  \n",
      " 3   driver_action  1557740 non-null  object \n",
      " 4   lat            1557740 non-null  float64\n",
      " 5   lng            1557740 non-null  float64\n",
      "dtypes: float64(2), int64(3), object(1)\n",
      "memory usage: 71.3+ MB\n",
      "None\n"
     ]
    }
   ],
   "source": [
    "print(df_delivery_requests_cleaned.info())"
   ]
  },
  {
   "cell_type": "code",
   "execution_count": 6,
   "metadata": {},
   "outputs": [
    {
     "name": "stdout",
     "output_type": "stream",
     "text": [
      "\n",
      "Completed Orders - Missing Values:\n",
      "Trip ID                0\n",
      "Trip Origin            0\n",
      "Trip Destination       0\n",
      "Trip Start Time     1651\n",
      "Trip End Time          1\n",
      "dtype: int64\n"
     ]
    }
   ],
   "source": [
    "# Missing values\n",
    "print(\"\\nCompleted Orders - Missing Values:\")\n",
    "print(df_completed_orders.isnull().sum())"
   ]
  },
  {
   "cell_type": "code",
   "execution_count": 7,
   "metadata": {},
   "outputs": [
    {
     "name": "stdout",
     "output_type": "stream",
     "text": [
      "\n",
      "Delivery Requests - Missing Values:\n",
      "id                     0\n",
      "order_id               0\n",
      "driver_id              0\n",
      "driver_action          0\n",
      "lat                    0\n",
      "lng                    0\n",
      "created_at       1557740\n",
      "updated_at       1557740\n",
      "dtype: int64\n"
     ]
    }
   ],
   "source": [
    "print(\"\\nDelivery Requests - Missing Values:\")\n",
    "print(df_delivery_requests.isnull().sum())"
   ]
  },
  {
   "cell_type": "code",
   "execution_count": 8,
   "metadata": {},
   "outputs": [
    {
     "name": "stdout",
     "output_type": "stream",
     "text": [
      "Completed Orders - Missing Values:\n",
      "Trip ID                0\n",
      "Trip Origin            0\n",
      "Trip Destination       0\n",
      "Trip Start Time     1651\n",
      "Trip End Time          1\n",
      "dtype: int64\n",
      "\n",
      "Completed Orders - Missing Values After Handling:\n"
     ]
    },
    {
     "name": "stderr",
     "output_type": "stream",
     "text": [
      "/tmp/ipykernel_13710/3261598345.py:6: FutureWarning: A value is trying to be set on a copy of a DataFrame or Series through chained assignment using an inplace method.\n",
      "The behavior will change in pandas 3.0. This inplace method will never work because the intermediate object on which we are setting values always behaves as a copy.\n",
      "\n",
      "For example, when doing 'df[col].method(value, inplace=True)', try using 'df.method({col: value}, inplace=True)' or df[col] = df[col].method(value) instead, to perform the operation inplace on the original object.\n",
      "\n",
      "\n",
      "  df_completed_orders['Trip Start Time'].fillna(method='ffill', inplace=True)\n",
      "/tmp/ipykernel_13710/3261598345.py:6: FutureWarning: Series.fillna with 'method' is deprecated and will raise in a future version. Use obj.ffill() or obj.bfill() instead.\n",
      "  df_completed_orders['Trip Start Time'].fillna(method='ffill', inplace=True)\n",
      "/tmp/ipykernel_13710/3261598345.py:7: FutureWarning: A value is trying to be set on a copy of a DataFrame or Series through chained assignment using an inplace method.\n",
      "The behavior will change in pandas 3.0. This inplace method will never work because the intermediate object on which we are setting values always behaves as a copy.\n",
      "\n",
      "For example, when doing 'df[col].method(value, inplace=True)', try using 'df.method({col: value}, inplace=True)' or df[col] = df[col].method(value) instead, to perform the operation inplace on the original object.\n",
      "\n",
      "\n",
      "  df_completed_orders['Trip End Time'].fillna(method='bfill', inplace=True)\n",
      "/tmp/ipykernel_13710/3261598345.py:7: FutureWarning: Series.fillna with 'method' is deprecated and will raise in a future version. Use obj.ffill() or obj.bfill() instead.\n",
      "  df_completed_orders['Trip End Time'].fillna(method='bfill', inplace=True)\n"
     ]
    },
    {
     "name": "stdout",
     "output_type": "stream",
     "text": [
      "Trip ID             0\n",
      "Trip Origin         0\n",
      "Trip Destination    0\n",
      "Trip Start Time     0\n",
      "Trip End Time       0\n",
      "dtype: int64\n"
     ]
    }
   ],
   "source": [
    "# Identify missing values in completed orders\n",
    "print(\"Completed Orders - Missing Values:\")\n",
    "print(df_completed_orders.isnull().sum())\n",
    "\n",
    "# Fill missing values in Trip Start Time and Trip End Time\n",
    "df_completed_orders['Trip Start Time'].fillna(method='ffill', inplace=True)\n",
    "df_completed_orders['Trip End Time'].fillna(method='bfill', inplace=True)\n",
    "\n",
    "# Confirm missing values have been handled\n",
    "print(\"\\nCompleted Orders - Missing Values After Handling:\")\n",
    "print(df_completed_orders.isnull().sum())\n"
   ]
  },
  {
   "cell_type": "code",
   "execution_count": 9,
   "metadata": {},
   "outputs": [
    {
     "name": "stdout",
     "output_type": "stream",
     "text": [
      "\n",
      "Delivery Requests - Missing Values:\n",
      "id                     0\n",
      "order_id               0\n",
      "driver_id              0\n",
      "driver_action          0\n",
      "lat                    0\n",
      "lng                    0\n",
      "created_at       1557740\n",
      "updated_at       1557740\n",
      "dtype: int64\n",
      "\n",
      "Delivery Requests - Missing Values After Handling:\n",
      "id               0\n",
      "order_id         0\n",
      "driver_id        0\n",
      "driver_action    0\n",
      "lat              0\n",
      "lng              0\n",
      "dtype: int64\n"
     ]
    }
   ],
   "source": [
    "# Identify missing values in delivery requests\n",
    "print(\"\\nDelivery Requests - Missing Values:\")\n",
    "print(df_delivery_requests.isnull().sum())\n",
    "\n",
    "# Drop columns 'created_at' and 'updated_at' as they have no non-null values\n",
    "df_delivery_requests.drop(columns=['created_at', 'updated_at'], inplace=True)\n",
    "\n",
    "# Confirm missing values have been handled\n",
    "print(\"\\nDelivery Requests - Missing Values After Handling:\")\n",
    "print(df_delivery_requests.isnull().sum())\n"
   ]
  },
  {
   "cell_type": "code",
   "execution_count": 10,
   "metadata": {},
   "outputs": [],
   "source": [
    "# Save the cleaned and feature-engineered data\n",
    "df_completed_orders.to_csv('../data/processed/completed_orders_cleaned.csv', index=False)\n",
    "df_delivery_requests.to_csv('../data/processed/delivery_requests_cleaned.csv', index=False)"
   ]
  },
  {
   "cell_type": "code",
   "execution_count": null,
   "metadata": {},
   "outputs": [],
   "source": [
    "# List all columns in the DataFrame\n",
    "columns_list = df_c.columns.tolist()\n",
    "print(columns_list)\n"
   ]
  }
 ],
 "metadata": {
  "kernelspec": {
   "display_name": "venv",
   "language": "python",
   "name": "python3"
  },
  "language_info": {
   "codemirror_mode": {
    "name": "ipython",
    "version": 3
   },
   "file_extension": ".py",
   "mimetype": "text/x-python",
   "name": "python",
   "nbconvert_exporter": "python",
   "pygments_lexer": "ipython3",
   "version": "3.10.10"
  }
 },
 "nbformat": 4,
 "nbformat_minor": 2
}
